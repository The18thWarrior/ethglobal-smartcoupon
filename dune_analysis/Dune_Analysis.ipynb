{
 "cells": [
  {
   "cell_type": "code",
   "execution_count": 5,
   "id": "df8b86eb-f4c2-4fc4-bd6c-778da7dabc06",
   "metadata": {},
   "outputs": [],
   "source": [
    "from requests import get, post\n",
    "import pandas as pd\n",
    "\n",
    "API_KEY = \"6ZJOL10zsug95FnkfLPl4ejNximlknhM\"\n",
    "HEADER = {\"x-dune-api-key\" : API_KEY}"
   ]
  },
  {
   "cell_type": "code",
   "execution_count": 6,
   "id": "6b0314df-5a14-4601-9249-1ab133d8bbb7",
   "metadata": {},
   "outputs": [],
   "source": [
    "BASE_URL = \"https://api.dune.com/api/v1/\"\n",
    "\n",
    "def make_api_url(module, action, ID):\n",
    "    \"\"\"\n",
    "    We shall use this function to generate a URL to call the API.\n",
    "    \"\"\"\n",
    "\n",
    "    url = BASE_URL + module + \"/\" + ID + \"/\" + action\n",
    "\n",
    "    return url\n",
    "\n",
    "def execute_query(query_id):\n",
    "    \"\"\"\n",
    "    Takes in the query ID.\n",
    "    Calls the API to execute the query.\n",
    "    Returns the execution ID of the instance which is executing the query.\n",
    "    \"\"\"\n",
    "\n",
    "    url = make_api_url(\"query\", \"execute\", query_id)\n",
    "    response = post(url, headers=HEADER)\n",
    "    execution_id = response.json()['execution_id']\n",
    "\n",
    "    return execution_id\n",
    "\n",
    "\n",
    "def get_query_status(execution_id):\n",
    "    \"\"\"\n",
    "    Takes in an execution ID.\n",
    "    Fetches the status of query execution using the API\n",
    "    Returns the status response object\n",
    "    \"\"\"\n",
    "\n",
    "    url = make_api_url(\"execution\", \"status\", execution_id)\n",
    "    response = get(url, headers=HEADER)\n",
    "\n",
    "    return response\n",
    "\n",
    "\n",
    "def get_query_results(execution_id):\n",
    "    \"\"\"\n",
    "    Takes in an execution ID.\n",
    "    Fetches the results returned from the query using the API\n",
    "    Returns the results response object\n",
    "    \"\"\"\n",
    "\n",
    "    url = make_api_url(\"execution\", \"results\", execution_id)\n",
    "    response = get(url, headers=HEADER)\n",
    "\n",
    "    return response\n",
    "\n",
    "\n",
    "def cancel_query_execution(execution_id):\n",
    "    \"\"\"\n",
    "    Takes in an execution ID.\n",
    "    Cancels the ongoing execution of the query.\n",
    "    Returns the response object.\n",
    "    \"\"\"\n",
    "\n",
    "    url = make_api_url(\"execution\", \"cancel\", execution_id)\n",
    "    response = get(url, headers=HEADER)\n",
    "\n",
    "    return response\n"
   ]
  },
  {
   "cell_type": "code",
   "execution_count": 7,
   "id": "f1564c12-b031-4303-ac79-c08c2eb21020",
   "metadata": {},
   "outputs": [],
   "source": [
    "execution_id = execute_query(\"1533375\")"
   ]
  },
  {
   "cell_type": "code",
   "execution_count": 9,
   "id": "776df640-5745-4570-ab94-35f7a01c2b11",
   "metadata": {},
   "outputs": [],
   "source": [
    "response = get_query_status(execution_id)"
   ]
  },
  {
   "cell_type": "code",
   "execution_count": 10,
   "id": "0301f3c2-853a-4695-9bdf-ca3131c9aa9f",
   "metadata": {},
   "outputs": [],
   "source": [
    "response = get_query_results(execution_id)"
   ]
  },
  {
   "cell_type": "code",
   "execution_count": 11,
   "id": "cbab08d9-27b4-4864-bd4b-8853e87f2640",
   "metadata": {},
   "outputs": [],
   "source": [
    "data = pd.DataFrame(response.json()['result']['rows'])"
   ]
  },
  {
   "cell_type": "code",
   "execution_count": 12,
   "id": "61f196b4-36f8-481d-abb7-97fbce6c3b9f",
   "metadata": {},
   "outputs": [
    {
     "data": {
      "text/html": [
       "<div>\n",
       "<style scoped>\n",
       "    .dataframe tbody tr th:only-of-type {\n",
       "        vertical-align: middle;\n",
       "    }\n",
       "\n",
       "    .dataframe tbody tr th {\n",
       "        vertical-align: top;\n",
       "    }\n",
       "\n",
       "    .dataframe thead th {\n",
       "        text-align: right;\n",
       "    }\n",
       "</style>\n",
       "<table border=\"1\" class=\"dataframe\">\n",
       "  <thead>\n",
       "    <tr style=\"text-align: right;\">\n",
       "      <th></th>\n",
       "      <th>owner</th>\n",
       "      <th>total</th>\n",
       "    </tr>\n",
       "  </thead>\n",
       "  <tbody>\n",
       "    <tr>\n",
       "      <th>0</th>\n",
       "      <td>\\x227ad43301f81ffdbc3918eae6e5e2f50f8504a1</td>\n",
       "      <td>12</td>\n",
       "    </tr>\n",
       "    <tr>\n",
       "      <th>1</th>\n",
       "      <td>\\xb5429cc89786e51eb96db97cc18796dfd425bca4</td>\n",
       "      <td>12</td>\n",
       "    </tr>\n",
       "    <tr>\n",
       "      <th>2</th>\n",
       "      <td>\\xcf3bc13c0f19b9549364cc5f4b7ea807b737c062</td>\n",
       "      <td>18</td>\n",
       "    </tr>\n",
       "    <tr>\n",
       "      <th>3</th>\n",
       "      <td>\\x617b282fa97a7351faa3b3bcb9358ebc8855891c</td>\n",
       "      <td>23</td>\n",
       "    </tr>\n",
       "    <tr>\n",
       "      <th>4</th>\n",
       "      <td>\\xa022f02d2f76159331bd5ddee7c30c256188096d</td>\n",
       "      <td>38</td>\n",
       "    </tr>\n",
       "    <tr>\n",
       "      <th>...</th>\n",
       "      <td>...</td>\n",
       "      <td>...</td>\n",
       "    </tr>\n",
       "    <tr>\n",
       "      <th>117</th>\n",
       "      <td>\\x43098f3c62b4f5e6d4292acbc51bb727c9c27894</td>\n",
       "      <td>18</td>\n",
       "    </tr>\n",
       "    <tr>\n",
       "      <th>118</th>\n",
       "      <td>\\x6efd6c35854e89b0f479e7cbdff8b7c15e4ac0ba</td>\n",
       "      <td>41</td>\n",
       "    </tr>\n",
       "    <tr>\n",
       "      <th>119</th>\n",
       "      <td>\\x9dabafdffb061837457e2cc8f0204e9ae113e87d</td>\n",
       "      <td>20</td>\n",
       "    </tr>\n",
       "    <tr>\n",
       "      <th>120</th>\n",
       "      <td>\\x563415679588e508c0c8f0a729c9bf898406e9b5</td>\n",
       "      <td>21</td>\n",
       "    </tr>\n",
       "    <tr>\n",
       "      <th>121</th>\n",
       "      <td>\\x76e6e1aef042f984dfb279a75f11adb3995b7e93</td>\n",
       "      <td>13</td>\n",
       "    </tr>\n",
       "  </tbody>\n",
       "</table>\n",
       "<p>122 rows × 2 columns</p>\n",
       "</div>"
      ],
      "text/plain": [
       "                                          owner  total\n",
       "0    \\x227ad43301f81ffdbc3918eae6e5e2f50f8504a1     12\n",
       "1    \\xb5429cc89786e51eb96db97cc18796dfd425bca4     12\n",
       "2    \\xcf3bc13c0f19b9549364cc5f4b7ea807b737c062     18\n",
       "3    \\x617b282fa97a7351faa3b3bcb9358ebc8855891c     23\n",
       "4    \\xa022f02d2f76159331bd5ddee7c30c256188096d     38\n",
       "..                                          ...    ...\n",
       "117  \\x43098f3c62b4f5e6d4292acbc51bb727c9c27894     18\n",
       "118  \\x6efd6c35854e89b0f479e7cbdff8b7c15e4ac0ba     41\n",
       "119  \\x9dabafdffb061837457e2cc8f0204e9ae113e87d     20\n",
       "120  \\x563415679588e508c0c8f0a729c9bf898406e9b5     21\n",
       "121  \\x76e6e1aef042f984dfb279a75f11adb3995b7e93     13\n",
       "\n",
       "[122 rows x 2 columns]"
      ]
     },
     "execution_count": 12,
     "metadata": {},
     "output_type": "execute_result"
    }
   ],
   "source": [
    "data"
   ]
  },
  {
   "cell_type": "code",
   "execution_count": 13,
   "id": "9004cd4c-b589-4147-bb90-870646ace5f4",
   "metadata": {},
   "outputs": [
    {
     "name": "stdout",
     "output_type": "stream",
     "text": [
      "/Users/jan/Documents/Programming/crypto/EthSF/dune_data\n"
     ]
    }
   ],
   "source": [
    "!pwd"
   ]
  },
  {
   "cell_type": "code",
   "execution_count": 14,
   "id": "841ab24c-2219-41d8-9c0a-e4cc5eb04050",
   "metadata": {},
   "outputs": [],
   "source": [
    "data.to_csv(\"/Users/jan/Documents/Programming/crypto/EthSF/dune_data/adidas_top_holders.csv\")"
   ]
  },
  {
   "cell_type": "code",
   "execution_count": null,
   "id": "0efb7f82-0969-4a72-b2fa-742c5c3d5b61",
   "metadata": {},
   "outputs": [],
   "source": []
  }
 ],
 "metadata": {
  "kernelspec": {
   "display_name": "Python 3 (ipykernel)",
   "language": "python",
   "name": "python3"
  },
  "language_info": {
   "codemirror_mode": {
    "name": "ipython",
    "version": 3
   },
   "file_extension": ".py",
   "mimetype": "text/x-python",
   "name": "python",
   "nbconvert_exporter": "python",
   "pygments_lexer": "ipython3",
   "version": "3.8.1"
  }
 },
 "nbformat": 4,
 "nbformat_minor": 5
}
